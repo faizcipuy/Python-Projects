{
  "nbformat": 4,
  "nbformat_minor": 0,
  "metadata": {
    "colab": {
      "provenance": []
    },
    "kernelspec": {
      "name": "python3",
      "display_name": "Python 3"
    },
    "language_info": {
      "name": "python"
    }
  },
  "cells": [
    {
      "cell_type": "markdown",
      "source": [
        "Tugas 3 = buat user manual bisa di word (untuk pengguna awam)"
      ],
      "metadata": {
        "id": "ZSXuUlZ_b7jr"
      }
    },
    {
      "cell_type": "markdown",
      "source": [
        "Kode Tugas 1,2 dan 4"
      ],
      "metadata": {
        "id": "XAnRPX0Jf6SF"
      }
    },
    {
      "cell_type": "code",
      "source": [
        "# === Aplikasi Kasir Sederhana ===\n",
        "# Tugas 1: Program Utama\n",
        "# Tugas 2: Dokumentasi Teknis & Penjelasan Alur\n",
        "# Tugas 4: Pengujian & Optimasi Kode\n",
        "\n",
        "# === Data Produk ===\n",
        "# Dictionary berisi produk dan harganya\n",
        "produk = {\n",
        "    \"Indomie\": 3500,\n",
        "    \"Telur\": 2500,\n",
        "    \"Beras\": 12000,\n",
        "    \"Minyak Goreng\": 15000,\n",
        "    \"Gula\": 10000\n",
        "}\n",
        "\n",
        "keranjang = {}  # Menyimpan barang yang dibeli user\n",
        "\n",
        "# === Tampilan Awal ===\n",
        "print(\"===== SELAMAT DATANG DI TOKO =====\")\n",
        "print(\"Daftar Produk:\")\n",
        "for nama, harga in produk.items():\n",
        "    print(f\"  - {nama} : Rp{harga}\")\n",
        "\n",
        "# === Input Pembelian ===\n",
        "while True:\n",
        "    barang = input(\"Masukkan nama barang (ketik 'selesai' untuk mengakhiri): \").title()\n",
        "    if barang.lower() == \"selesai\":\n",
        "        break\n",
        "    if barang in produk:\n",
        "        try:\n",
        "            jumlah = int(input(f\"Masukkan jumlah {barang}: \"))\n",
        "            if jumlah <= 0:\n",
        "                print(\"Jumlah harus lebih dari 0.\")\n",
        "                continue\n",
        "        except ValueError:\n",
        "            print(\"Masukkan angka yang valid.\")\n",
        "            continue\n",
        "        keranjang[barang] = keranjang.get(barang, 0) + jumlah\n",
        "    else:\n",
        "        print(\"Barang tidak tersedia dalam daftar.\")\n",
        "\n",
        "# === Hitung dan Cetak Struk ===\n",
        "print(\"\\n===== STRUK PEMBELIAN =====\")\n",
        "total = 0\n",
        "for barang, jumlah in keranjang.items():\n",
        "    harga = produk[barang]\n",
        "    subtotal = harga * jumlah\n",
        "    print(f\"{barang} x {jumlah} = Rp{subtotal}\")\n",
        "    total += subtotal\n",
        "\n",
        "print(f\"\\nTotal Belanja: Rp{total}\")\n",
        "\n",
        "# === Pembayaran ===\n",
        "while True:\n",
        "    try:\n",
        "        bayar = int(input(\"Masukkan jumlah uang: Rp\"))\n",
        "        if bayar < total:\n",
        "            print(\"Uang tidak cukup. Masukkan jumlah yang mencukupi.\")\n",
        "        else:\n",
        "            break\n",
        "    except ValueError:\n",
        "        print(\"Masukkan angka yang valid.\")\n",
        "\n",
        "kembalian = bayar - total\n",
        "print(f\"Kembalian: Rp{kembalian}\")\n",
        "print(\"=== Terima kasih telah berbelanja! ===\")"
      ],
      "metadata": {
        "colab": {
          "base_uri": "https://localhost:8080/",
          "height": 0
        },
        "id": "4AgCiroBgS0v",
        "outputId": "92827ce7-d523-467a-e3af-80a6871d6c52"
      },
      "execution_count": 8,
      "outputs": [
        {
          "output_type": "stream",
          "name": "stdout",
          "text": [
            "===== SELAMAT DATANG DI TOKO =====\n",
            "Daftar Produk:\n",
            "  - Indomie : Rp3500\n",
            "  - Telur : Rp2500\n",
            "  - Beras : Rp12000\n",
            "  - Minyak Goreng : Rp15000\n",
            "  - Gula : Rp10000\n",
            "Masukkan nama barang (ketik 'selesai' untuk mengakhiri): Indomie\n",
            "Masukkan jumlah Indomie: 10\n",
            "Masukkan nama barang (ketik 'selesai' untuk mengakhiri): Telur\n",
            "Masukkan jumlah Telur: 13\n",
            "Masukkan nama barang (ketik 'selesai' untuk mengakhiri): Beras \n",
            "Barang tidak tersedia dalam daftar.\n",
            "Masukkan nama barang (ketik 'selesai' untuk mengakhiri): 5\n",
            "Barang tidak tersedia dalam daftar.\n",
            "Masukkan nama barang (ketik 'selesai' untuk mengakhiri): Minyak Goreng\n",
            "Masukkan jumlah Minyak Goreng: 3\n",
            "Masukkan nama barang (ketik 'selesai' untuk mengakhiri): Gula\n",
            "Masukkan jumlah Gula: 2\n",
            "Masukkan nama barang (ketik 'selesai' untuk mengakhiri): selesai\n",
            "\n",
            "===== STRUK PEMBELIAN =====\n",
            "Indomie x 10 = Rp35000\n",
            "Telur x 13 = Rp32500\n",
            "Minyak Goreng x 3 = Rp45000\n",
            "Gula x 2 = Rp20000\n",
            "\n",
            "Total Belanja: Rp132500\n",
            "Masukkan jumlah uang: Rp200000\n",
            "Kembalian: Rp67500\n",
            "=== Terima kasih telah berbelanja! ===\n"
          ]
        }
      ]
    }
  ]
}